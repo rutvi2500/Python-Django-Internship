{
 "cells": [
  {
   "cell_type": "markdown",
   "id": "91339f3b",
   "metadata": {},
   "source": [
    "## 26/05/2021\n",
    "\n",
    "### variables"
   ]
  },
  {
   "cell_type": "code",
   "execution_count": 1,
   "id": "5c602606",
   "metadata": {},
   "outputs": [
    {
     "name": "stdout",
     "output_type": "stream",
     "text": [
      "10\n",
      "n2 is 10.5\n",
      "name is Rutvi\n"
     ]
    }
   ],
   "source": [
    "n1=10\n",
    "n2=10.5\n",
    "name='Rutvi'\n",
    "print(n1)\n",
    "print(\"n2 is\",n2)\n",
    "print(\"name is\",name)\n"
   ]
  },
  {
   "cell_type": "code",
   "execution_count": 2,
   "id": "51919a0d",
   "metadata": {},
   "outputs": [
    {
     "name": "stdout",
     "output_type": "stream",
     "text": [
      "10\n",
      "x2 is 10.5\n",
      "Name is Rutvi Patel\n"
     ]
    }
   ],
   "source": [
    "#variables in single line\n",
    "x1,x2,Name=10,20.5,'Rutvi Patel'\n",
    "print(x1)\n",
    "print(\"x2 is\",n2)\n",
    "print(\"Name is\",Name)"
   ]
  },
  {
   "cell_type": "code",
   "execution_count": 3,
   "id": "d8f9354d",
   "metadata": {},
   "outputs": [
    {
     "name": "stdout",
     "output_type": "stream",
     "text": [
      "10\n",
      "n2 is 10\n",
      "name is 10\n"
     ]
    }
   ],
   "source": [
    "#Same value of multiple variables\n",
    "n1=n2=name=10\n",
    "print(n1)\n",
    "print(\"n2 is\",n2)\n",
    "print(\"name is\",name)"
   ]
  },
  {
   "cell_type": "markdown",
   "id": "af8caafc",
   "metadata": {},
   "source": [
    "## Datatypes"
   ]
  },
  {
   "cell_type": "code",
   "execution_count": null,
   "id": "b419f44c",
   "metadata": {},
   "outputs": [],
   "source": []
  },
  {
   "cell_type": "code",
   "execution_count": null,
   "id": "df240a62",
   "metadata": {},
   "outputs": [],
   "source": []
  },
  {
   "cell_type": "code",
   "execution_count": null,
   "id": "393716b3",
   "metadata": {},
   "outputs": [],
   "source": []
  },
  {
   "cell_type": "code",
   "execution_count": null,
   "id": "b83bb5d4",
   "metadata": {},
   "outputs": [],
   "source": [
    "\n",
    "\n",
    "\n",
    "\n",
    "\n",
    "\n",
    "#Number Datatype\n",
    "a1=10\n",
    "a2=10+2j\n",
    "print(a1, type(a1))          #type(a1) will show the datatype i.e. int\n",
    "print(a2,type(a2))\n",
    "print(\"a2 is\",isinstance(a2,complex))   #campare whether a2 is complex or not\n",
    "\n",
    "#String Datatype\n",
    "name=\"Rutvi Patel\"\n",
    "print(name)\n",
    "print(name[2])\n",
    "print(name[1:5])\n",
    "print(name[3:])\n",
    "print(name[:4])\n",
    "print(name*2)\n",
    "print(\"name is \"+name)      #concate\n",
    "\n",
    "#List Datatype\n",
    "l1=[5,10.5,20.3,'Rutvi']\n",
    "\n",
    "print(l1)\n",
    "print(type(l1))\n",
    "print(l1[1])\n",
    "print(l1[1:3])\n",
    "print(l1[2:])\n",
    "print(l1[:3])\n",
    "\n",
    "#Tupple Datatype\n",
    "t1=(5,10.5,20.3,'Rutvi')\n",
    "print(t1)\n",
    "print(type(t1))\n",
    "print(t1[1])\n",
    "print(t1[1:3])\n",
    "print(t1[2:])\n",
    "print(t1[:3])\n",
    "\n",
    "#Dictionary Datatype\n",
    "d1={10:'Hello','a1':100,20:200}\n",
    "\n",
    "print(d1)\n",
    "print(type(d1))\n",
    "print(d1[10])\n",
    "print(d1['a1'])\n",
    "print(d1[20])\n"
   ]
  }
 ],
 "metadata": {
  "kernelspec": {
   "display_name": "Python 3",
   "language": "python",
   "name": "python3"
  },
  "language_info": {
   "codemirror_mode": {
    "name": "ipython",
    "version": 3
   },
   "file_extension": ".py",
   "mimetype": "text/x-python",
   "name": "python",
   "nbconvert_exporter": "python",
   "pygments_lexer": "ipython3",
   "version": "3.8.8"
  }
 },
 "nbformat": 4,
 "nbformat_minor": 5
}
