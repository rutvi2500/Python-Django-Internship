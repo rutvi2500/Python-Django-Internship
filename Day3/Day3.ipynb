{
 "cells": [
  {
   "cell_type": "code",
   "execution_count": null,
   "id": "7e866e9c",
   "metadata": {},
   "outputs": [],
   "source": []
  },
  {
   "cell_type": "markdown",
   "id": "5845f44a",
   "metadata": {},
   "source": [
    "## 27/05/21\n",
    "### conditional statements"
   ]
  },
  {
   "cell_type": "code",
   "execution_count": 1,
   "id": "f30bcb49",
   "metadata": {},
   "outputs": [
    {
     "name": "stdout",
     "output_type": "stream",
     "text": [
      "n2 is greater than n1\n"
     ]
    }
   ],
   "source": [
    "#If statements\n",
    "n1=10\n",
    "n2=20\n",
    "if n1>n2:\n",
    "    print(\"n1 is greater than n2\")          #if space will not be there in the begining it will show an error.\n",
    "if n2>n1:\n",
    "    print(\"n2 is greater than n1\")"
   ]
  },
  {
   "cell_type": "code",
   "execution_count": 2,
   "id": "723cdbf8",
   "metadata": {},
   "outputs": [
    {
     "name": "stdout",
     "output_type": "stream",
     "text": [
      "n1 is greater than n2\n"
     ]
    }
   ],
   "source": [
    "#If...else statements\n",
    "n1=30\n",
    "n2=20\n",
    "if n1>n2:\n",
    "    print(\"n1 is greater than n2\")\n",
    "else:\n",
    "    print(\"n2 is greater than n1\")"
   ]
  },
  {
   "cell_type": "code",
   "execution_count": 3,
   "id": "1abd70bc",
   "metadata": {},
   "outputs": [
    {
     "name": "stdout",
     "output_type": "stream",
     "text": [
      "n1 and n2 are equal\n"
     ]
    }
   ],
   "source": [
    "#If...elif...else statements\n",
    "n1=35\n",
    "n2=35\n",
    "if n1>n2:\n",
    "    print(\"n1 is greater than n2\")\n",
    "elif n1==n2:\n",
    "    print(\"n1 and n2 are equal\")\n",
    "else:\n",
    "    print(\"n2 is greater than n1\")"
   ]
  },
  {
   "cell_type": "code",
   "execution_count": 5,
   "id": "e244d2ee",
   "metadata": {},
   "outputs": [
    {
     "name": "stdout",
     "output_type": "stream",
     "text": [
      "n2 is negative\n"
     ]
    }
   ],
   "source": [
    "#nested if...else\n",
    "n1=-10\n",
    "if n1>=0:\n",
    "    if n1==0:\n",
    "        print(\"n1 is zero\")\n",
    "    else:\n",
    "        print(\"n1 is positive\")\n",
    "else:\n",
    "    print(\"n2 is negative\")"
   ]
  },
  {
   "cell_type": "markdown",
   "id": "c6f05bea",
   "metadata": {},
   "source": [
    "### Looping statements"
   ]
  },
  {
   "cell_type": "code",
   "execution_count": 6,
   "id": "fc4d14a7",
   "metadata": {},
   "outputs": [
    {
     "name": "stdout",
     "output_type": "stream",
     "text": [
      "Value is h\n",
      "Value is e\n",
      "Value is l\n",
      "Value is l\n",
      "Value is o\n",
      "[10, 20, 'hello']\n",
      "value is 10\n",
      "value is 20\n",
      "value is hello\n"
     ]
    }
   ],
   "source": [
    "#While loop\n",
    "for i in 'hello':\n",
    "    print(\"Value is\",i)\n",
    "\n",
    "l1=[10,20,'hello']\n",
    "print(l1)\n",
    "for i in l1:\n",
    "    print(\"value is\",i)"
   ]
  },
  {
   "cell_type": "code",
   "execution_count": 7,
   "id": "8a1766af",
   "metadata": {},
   "outputs": [
    {
     "name": "stdout",
     "output_type": "stream",
     "text": [
      "value is  0\n",
      "value is  1\n",
      "value is  2\n",
      "value is  3\n",
      "value is  4\n",
      "value is  5\n",
      "value is  6\n",
      "value is  7\n",
      "value is  8\n",
      "value is  9\n",
      "value is  1\n",
      "value is  2\n",
      "value is  3\n",
      "value is  4\n",
      "value is  1\n",
      "value is  3\n",
      "value is  5\n",
      "value is  7\n",
      "value is  9\n"
     ]
    }
   ],
   "source": [
    "#Range function\n",
    "for i in range(10):\n",
    "    print(\"value is \",i)\n",
    "\n",
    "for j in range(1,5):\n",
    "    print(\"value is \",j)\n",
    "    #increment by 2\n",
    "for k in range(1,10,2):\n",
    "    print(\"value is \",k)"
   ]
  },
  {
   "cell_type": "code",
   "execution_count": 8,
   "id": "1998e439",
   "metadata": {},
   "outputs": [
    {
     "name": "stdout",
     "output_type": "stream",
     "text": [
      "[10, 20, 'hello']\n",
      "value is  10\n",
      "value is  20\n",
      "value is  hello\n",
      "value is  10\n",
      "value is  20\n",
      "value is  hello\n"
     ]
    }
   ],
   "source": [
    "#get value from list\n",
    "l1=[10,20,'hello']\n",
    "print(l1)\n",
    "for i in l1:\n",
    "    print(\"value is \",i)\n",
    "\n",
    "for j in range(len(l1)):\n",
    "    print(\"value is \",l1[j])"
   ]
  },
  {
   "cell_type": "code",
   "execution_count": 9,
   "id": "42da54e1",
   "metadata": {},
   "outputs": [
    {
     "name": "stdout",
     "output_type": "stream",
     "text": [
      "[10, 20, 'hello']\n",
      "value is  10\n",
      "value is  20\n",
      "value is  hello\n",
      "value is  10\n",
      "value is  20\n",
      "value is  hello\n",
      "loop ended\n"
     ]
    }
   ],
   "source": [
    "#Loop with Else\n",
    "l1=[10,20,'hello']\n",
    "print(l1)\n",
    "for i in l1:\n",
    "    print(\"value is \",i)\n",
    "\n",
    "for j in range(len(l1)):\n",
    "    print(\"value is \",l1[j])\n",
    "\n",
    "else:\n",
    "    print(\"loop ended\")"
   ]
  },
  {
   "cell_type": "markdown",
   "id": "91f6b5ae",
   "metadata": {},
   "source": [
    "### Break & Continue statements"
   ]
  },
  {
   "cell_type": "code",
   "execution_count": 4,
   "id": "c6fc2ba1",
   "metadata": {},
   "outputs": [
    {
     "name": "stdout",
     "output_type": "stream",
     "text": [
      "0\n",
      "1\n",
      "2\n",
      "3\n",
      "Loop exited\n"
     ]
    }
   ],
   "source": [
    "    #Print 0,1,2,3,4\n",
    "i=0\n",
    "while i<10:\n",
    "    print(\"value is \",i)\n",
    "    i+=1\n",
    "    if i>=5:\n",
    "        break"
   ]
  },
  {
   "cell_type": "code",
   "execution_count": 15,
   "id": "ee102020",
   "metadata": {},
   "outputs": [
    {
     "name": "stdout",
     "output_type": "stream",
     "text": [
      "1\n",
      "3\n",
      "5\n",
      "7\n",
      "9\n"
     ]
    }
   ],
   "source": [
    "#Print only odd numbers.\n",
    "for x in range(10):\n",
    "    if x%2==0:\n",
    "        continue\n",
    "    print(x)"
   ]
  },
  {
   "cell_type": "markdown",
   "id": "d390c98f",
   "metadata": {},
   "source": [
    "### Pass Statement"
   ]
  },
  {
   "cell_type": "code",
   "execution_count": 17,
   "id": "e79800b0",
   "metadata": {},
   "outputs": [],
   "source": [
    "#it is used when we don't want to keep else block empty.\n",
    "\n",
    "i = {10,20,30,40}\n",
    "for val in i:\n",
    "    pass"
   ]
  },
  {
   "cell_type": "code",
   "execution_count": null,
   "id": "678a8469",
   "metadata": {},
   "outputs": [],
   "source": []
  },
  {
   "cell_type": "code",
   "execution_count": null,
   "id": "cb443112",
   "metadata": {},
   "outputs": [],
   "source": []
  },
  {
   "cell_type": "code",
   "execution_count": null,
   "id": "dc0b0501",
   "metadata": {},
   "outputs": [],
   "source": []
  },
  {
   "cell_type": "code",
   "execution_count": null,
   "id": "6a9aa36b",
   "metadata": {},
   "outputs": [],
   "source": []
  },
  {
   "cell_type": "code",
   "execution_count": null,
   "id": "a687a73d",
   "metadata": {},
   "outputs": [],
   "source": []
  },
  {
   "cell_type": "code",
   "execution_count": null,
   "id": "032607e5",
   "metadata": {},
   "outputs": [],
   "source": []
  },
  {
   "cell_type": "code",
   "execution_count": null,
   "id": "cfa2051d",
   "metadata": {},
   "outputs": [],
   "source": []
  },
  {
   "cell_type": "code",
   "execution_count": null,
   "id": "cf455855",
   "metadata": {},
   "outputs": [],
   "source": []
  },
  {
   "cell_type": "code",
   "execution_count": null,
   "id": "a1dd88a8",
   "metadata": {},
   "outputs": [],
   "source": []
  },
  {
   "cell_type": "code",
   "execution_count": null,
   "id": "fd1879e0",
   "metadata": {},
   "outputs": [],
   "source": []
  },
  {
   "cell_type": "code",
   "execution_count": null,
   "id": "445bf84a",
   "metadata": {},
   "outputs": [],
   "source": []
  },
  {
   "cell_type": "code",
   "execution_count": null,
   "id": "25aedeb8",
   "metadata": {},
   "outputs": [],
   "source": []
  },
  {
   "cell_type": "code",
   "execution_count": null,
   "id": "fbff71ac",
   "metadata": {},
   "outputs": [],
   "source": []
  },
  {
   "cell_type": "code",
   "execution_count": null,
   "id": "b2981352",
   "metadata": {},
   "outputs": [],
   "source": []
  },
  {
   "cell_type": "code",
   "execution_count": null,
   "id": "2d301572",
   "metadata": {},
   "outputs": [],
   "source": []
  },
  {
   "cell_type": "code",
   "execution_count": null,
   "id": "c6d914b0",
   "metadata": {},
   "outputs": [],
   "source": []
  },
  {
   "cell_type": "code",
   "execution_count": null,
   "id": "f8cde597",
   "metadata": {},
   "outputs": [],
   "source": []
  }
 ],
 "metadata": {
  "kernelspec": {
   "display_name": "Python 3",
   "language": "python",
   "name": "python3"
  },
  "language_info": {
   "codemirror_mode": {
    "name": "ipython",
    "version": 3
   },
   "file_extension": ".py",
   "mimetype": "text/x-python",
   "name": "python",
   "nbconvert_exporter": "python",
   "pygments_lexer": "ipython3",
   "version": "3.8.8"
  }
 },
 "nbformat": 4,
 "nbformat_minor": 5
}
