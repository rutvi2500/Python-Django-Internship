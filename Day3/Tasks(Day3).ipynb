{
 "cells": [
  {
   "cell_type": "markdown",
   "id": "ff871a65",
   "metadata": {},
   "source": [
    "# 1. Calculate Average of 5 numbers."
   ]
  },
  {
   "cell_type": "code",
   "execution_count": 2,
   "id": "568bd069",
   "metadata": {},
   "outputs": [
    {
     "name": "stdout",
     "output_type": "stream",
     "text": [
      "Insert First Number: 10\n",
      "Insert Second Number: 20\n",
      "Insert Third Number: 30\n",
      "Insert Fourth Number: 40\n",
      "Insert Fifth Number: 50\n",
      "Sum is  150\n",
      "Average is  30.0\n"
     ]
    }
   ],
   "source": [
    "input_1_1 = int(input('Insert First Number: '))\n",
    "input_1_2 = int(input('Insert Second Number: '))\n",
    "input_1_3 = int(input('Insert Third Number: '))\n",
    "input_1_4 = int(input('Insert Fourth Number: '))\n",
    "input_1_5 = int(input('Insert Fifth Number: '))\n",
    "Sum=input_1_1+input_1_2+input_1_3+input_1_4+input_1_5\n",
    "Average=Sum/5\n",
    "print(\"Sum is \",Sum)\n",
    "print(\"Average is \",Average)"
   ]
  },
  {
   "cell_type": "markdown",
   "id": "47c63ceb",
   "metadata": {},
   "source": [
    "# 2.Check whether number is even or odd."
   ]
  },
  {
   "cell_type": "code",
   "execution_count": 4,
   "id": "d2b9fa14",
   "metadata": {},
   "outputs": [
    {
     "name": "stdout",
     "output_type": "stream",
     "text": [
      "Insert number: 25\n",
      "number is odd\n"
     ]
    }
   ],
   "source": [
    "input_2_1 = int(input('Insert number: '))\n",
    "if input_2_1%2==0:\n",
    "    print(\"number is even\")\n",
    "else:\n",
    "    print(\"number is odd\")"
   ]
  },
  {
   "cell_type": "markdown",
   "id": "4a4f3559",
   "metadata": {},
   "source": [
    "# 3. Take a year and check whether it is leap year or not."
   ]
  },
  {
   "cell_type": "code",
   "execution_count": 11,
   "id": "14fe3239",
   "metadata": {},
   "outputs": [
    {
     "name": "stdout",
     "output_type": "stream",
     "text": [
      "Insert year: 2016\n",
      "2016 is a Leap Year\n"
     ]
    }
   ],
   "source": [
    "input_3_1 = int(input('Insert year: '))\n",
    "if (( input_3_1%400 == 0)or (( input_3_1%4 == 0 ) and ( input_3_1%100 != 0))):\n",
    "    print(\"%d is a Leap Year\" %input_3_1)\n",
    "else:\n",
    "    print(\"%d is Not the Leap Year\" %input_3_1)\n",
    "\n",
    "    "
   ]
  },
  {
   "cell_type": "markdown",
   "id": "f8b85e9b",
   "metadata": {},
   "source": [
    "# 4. Take a number and check whether it is zero, positive or negative."
   ]
  },
  {
   "cell_type": "code",
   "execution_count": 12,
   "id": "e00e26ec",
   "metadata": {},
   "outputs": [
    {
     "name": "stdout",
     "output_type": "stream",
     "text": [
      "Insert number: -10\n",
      "number is negative\n"
     ]
    }
   ],
   "source": [
    "input_4_1 = int(input('Insert number: '))\n",
    "if input_4_1>=0:\n",
    "    if input_4_1==0:\n",
    "        print(\"number is zero\")\n",
    "    else:\n",
    "        print(\"number is positive\")\n",
    "else:\n",
    "    print(\"number is negative\")"
   ]
  },
  {
   "cell_type": "markdown",
   "id": "b9ea6ace",
   "metadata": {},
   "source": [
    "# 5. Take 2 numbers and display greatest number. (Also check equal number condition)"
   ]
  },
  {
   "cell_type": "code",
   "execution_count": 13,
   "id": "3f1b9733",
   "metadata": {},
   "outputs": [
    {
     "name": "stdout",
     "output_type": "stream",
     "text": [
      "Insert First Number: 10\n",
      "Insert Second Number: 20\n",
      "number2 is greater than number1\n"
     ]
    }
   ],
   "source": [
    "input_5_1 = int(input('Insert First Number: '))\n",
    "input_5_2 = int(input('Insert Second Number: '))\n",
    "if input_5_1>input_5_2:\n",
    "    print(\"number1 is greater than number2\")\n",
    "elif input_5_1==input_5_2:\n",
    "    print(\"number1 and number2 are equal\")\n",
    "else:\n",
    "    print(\"number2 is greater than number1\")"
   ]
  },
  {
   "cell_type": "markdown",
   "id": "93f837e7",
   "metadata": {},
   "source": [
    "# 6. Take a number and find factorial of that number."
   ]
  },
  {
   "cell_type": "code",
   "execution_count": 17,
   "id": "edbd91fc",
   "metadata": {},
   "outputs": [
    {
     "name": "stdout",
     "output_type": "stream",
     "text": [
      "Enter number:4\n",
      "Factorial of the number is:  24\n"
     ]
    }
   ],
   "source": [
    "input_6_1=int(input(\"Enter number:\"))\n",
    "fact=1\n",
    "while(input_6_1>0):\n",
    "    fact=fact*input_6_1\n",
    "    input_6_1=input_6_1-1\n",
    "print(\"Factorial of the number is: \",fact)\n"
   ]
  },
  {
   "cell_type": "markdown",
   "id": "e2a7a9d5",
   "metadata": {},
   "source": [
    "# 7. Write a program to swap 2 numbers using third variable."
   ]
  },
  {
   "cell_type": "code",
   "execution_count": 19,
   "id": "3b640b3e",
   "metadata": {},
   "outputs": [
    {
     "name": "stdout",
     "output_type": "stream",
     "text": [
      "please give first number a: 10\n",
      "please give second number b: 20\n",
      "After swapping\n",
      "value of a is :  20\n",
      "value of b is :  10\n"
     ]
    }
   ],
   "source": [
    "input_7_1 = int(input(\"please give first number a: \"))\n",
    "input_7_2 = int(input(\"please give second number b: \"))\n",
    "tempvar=input_7_1\n",
    "input_7_1=input_7_2\n",
    "input_7_2=tempvar\n",
    "print(\"After swapping\")\n",
    "print(\"value of a is : \",input_7_1);\n",
    "print(\"value of b is : \",input_7_2); "
   ]
  },
  {
   "cell_type": "markdown",
   "id": "2ebc58de",
   "metadata": {},
   "source": [
    "# 8. Take 2 numbers and find smallest number."
   ]
  },
  {
   "cell_type": "code",
   "execution_count": 20,
   "id": "d00eb4ce",
   "metadata": {},
   "outputs": [
    {
     "name": "stdout",
     "output_type": "stream",
     "text": [
      "Insert First Number: 20\n",
      "Insert Second Number: 30\n",
      "20 is the smallest Number\n"
     ]
    }
   ],
   "source": [
    "input_8_1 = int(input('Insert First Number: '))\n",
    "input_8_2 = int(input('Insert Second Number: '))\n",
    "\n",
    "if input_8_1== input_8_2:\n",
    "    print('Both value is same')\n",
    "elif input_8_1<input_8_2:\n",
    "    print(f'{input_8_1} is the smallest Number')\n",
    "else:\n",
    "    print(f'{input_8_1} is the smallest Number')"
   ]
  },
  {
   "cell_type": "markdown",
   "id": "f1570b62",
   "metadata": {},
   "source": [
    "# 9.\tTake a number check if a number is less than 100 or not. If it is less than 100 then check if it is odd or even"
   ]
  },
  {
   "cell_type": "code",
   "execution_count": 21,
   "id": "d5056423",
   "metadata": {},
   "outputs": [
    {
     "name": "stdout",
     "output_type": "stream",
     "text": [
      "Insert a number: 15\n",
      "15 is less than 100\n",
      "15 is odd number\n"
     ]
    }
   ],
   "source": [
    "input_9 = int(input('Insert a number: '))\n",
    "\n",
    "if input_9 < 100:\n",
    "    print(f'{input_9} is less than 100')\n",
    "else:\n",
    "    print(f'{input_9} is greater than 100')\n",
    "    \n",
    "if input_9 < 100:\n",
    "    if input_9 % 2 == 0:\n",
    "        print(f\"{input_9} is even number\")\n",
    "    else:\n",
    "        print(f\"{input_9} is odd number\")"
   ]
  },
  {
   "cell_type": "markdown",
   "id": "159048be",
   "metadata": {},
   "source": [
    "# 10.\tTake a number to print the square of a number if it is less than 10."
   ]
  },
  {
   "cell_type": "code",
   "execution_count": 22,
   "id": "60b6c2fa",
   "metadata": {},
   "outputs": [
    {
     "name": "stdout",
     "output_type": "stream",
     "text": [
      "Insert a number: 9\n",
      "Square of 9 is 81\n"
     ]
    }
   ],
   "source": [
    "input_10 = int(input('Insert a number: '))\n",
    "square = input_10*input_10\n",
    "if input_10 < 10:\n",
    "    print(f'Square of {input_10} is {square}')\n",
    "else:\n",
    "    print(f'{input_10} is greater than 10')"
   ]
  },
  {
   "cell_type": "markdown",
   "id": "de7e3f0f",
   "metadata": {},
   "source": [
    "# 11.Take a number and check whether it is zero, positive or negative using nested IF…ELSE statement ."
   ]
  },
  {
   "cell_type": "code",
   "execution_count": 24,
   "id": "2bf13ef9",
   "metadata": {},
   "outputs": [
    {
     "name": "stdout",
     "output_type": "stream",
     "text": [
      "Insert a number: 20\n",
      "number is positive\n"
     ]
    }
   ],
   "source": [
    "input_11_1=int(input('Insert a number: '))\n",
    "if input_11_1>=0:\n",
    "    if input_11_1==0:\n",
    "        print(\"number is zero\")\n",
    "    else:\n",
    "        print(\"number is positive\")\n",
    "else:\n",
    "    print(\"number is negative\")"
   ]
  },
  {
   "cell_type": "markdown",
   "id": "83aeaa90",
   "metadata": {},
   "source": [
    "# 12.  Take 3 numbers and find greatest number using nested IF….ELSE statement."
   ]
  },
  {
   "cell_type": "code",
   "execution_count": 25,
   "id": "5ee780d9",
   "metadata": {},
   "outputs": [
    {
     "name": "stdout",
     "output_type": "stream",
     "text": [
      "Insert First Number: 10\n",
      "Insert Second Number: 15\n",
      "Insert Third Number: 7\n",
      "The largest number is 15\n"
     ]
    }
   ],
   "source": [
    "input_12_1 = int(input('Insert First Number: '))\n",
    "input_12_2 = int(input('Insert Second Number: '))\n",
    "input_12_3 = int(input('Insert Third Number: '))\n",
    "\n",
    "if (input_12_1 > input_12_2 ) and (input_12_1 > input_12_3):\n",
    "   largest = input_12_1\n",
    "elif (input_12_2 > input_12_1) and (input_12_2 > input_12_3):\n",
    "   largest = input_12_2\n",
    "else:\n",
    "   largest = input_12_3\n",
    " \n",
    "print(\"The largest number is\",largest)"
   ]
  },
  {
   "cell_type": "markdown",
   "id": "76d334e6",
   "metadata": {},
   "source": [
    "# 13.\tTake 3 numbers and find smallest number using logical operator."
   ]
  },
  {
   "cell_type": "code",
   "execution_count": 26,
   "id": "12eee6a0",
   "metadata": {},
   "outputs": [
    {
     "name": "stdout",
     "output_type": "stream",
     "text": [
      "Insert First Number: 10\n",
      "Insert Second Number: 7\n",
      "Insert Third Number: 15\n",
      "7  is the smallest\n"
     ]
    }
   ],
   "source": [
    "input_13_1 = int(input('Insert First Number: '))\n",
    "input_13_2 = int(input('Insert Second Number: '))\n",
    "input_13_3 = int(input('Insert Third Number: '))\n",
    "\n",
    "if(input_13_1<=input_13_2 and input_13_1<=input_13_3):   #Compare the first number with the second and third number\n",
    "  print(input_13_1,\" is the smallest\")\n",
    "elif(input_13_2<=input_13_1 and input_13_2<=input_13_3):#Compare the second number with the first and third number\n",
    "  print(input_13_2,\" is the smallest\")\n",
    "else:\n",
    "    print(input_13_3,\" is the smallest\")"
   ]
  },
  {
   "cell_type": "markdown",
   "id": "9d8a4f44",
   "metadata": {},
   "source": [
    "# 14.  Write a program to swap 2 numbers without taking third variable.\n"
   ]
  },
  {
   "cell_type": "code",
   "execution_count": 30,
   "id": "4c1790a8",
   "metadata": {},
   "outputs": [
    {
     "name": "stdout",
     "output_type": "stream",
     "text": [
      "Insert First Number: 11\n",
      "Insert Second Number: 22\n",
      "Before swapping: \n",
      "Value of x :  11  and y :  22\n",
      "After swapping: \n",
      "Value of x :  22  and y :  11\n"
     ]
    }
   ],
   "source": [
    "input_14_1 = int(input('Insert First Number: '))\n",
    "input_14_2 = int(input('Insert Second Number: '))\n",
    "\n",
    "print (\"Before swapping: \")\n",
    "print(\"Value of x : \",input_14_1, \" and y : \",input_14_2)\n",
    "\n",
    "input_14_1, input_14_2 = input_14_2, input_14_1\n",
    "\n",
    "print (\"After swapping: \")\n",
    "print(\"Value of x : \", input_14_1, \" and y : \", input_14_2)"
   ]
  },
  {
   "cell_type": "markdown",
   "id": "c67ae6cd",
   "metadata": {},
   "source": [
    "# 15.\tTake starting number and ending number from the user and print following series.\n",
    "# Starting number: 30 & Ending Number: 0 \n",
    "# 30,27,24,18,15,12,9,6,3,0"
   ]
  },
  {
   "cell_type": "code",
   "execution_count": 36,
   "id": "d2c48a08",
   "metadata": {},
   "outputs": [
    {
     "name": "stdout",
     "output_type": "stream",
     "text": [
      "Starting Number: 30\n",
      "Ending Number: 0\n",
      "30\n",
      "27\n",
      "24\n",
      "21\n",
      "18\n",
      "15\n",
      "12\n",
      "9\n",
      "6\n",
      "3\n",
      "0\n"
     ]
    }
   ],
   "source": [
    "input_15_1 = int(input('Starting Number: '))\n",
    "input_15_2 = int(input('Ending Number: '))\n",
    "\n",
    "for i in range(input_15_1,input_15_2-1,-1):\n",
    "    if i%3==0:\n",
    "        print(i)"
   ]
  }
 ],
 "metadata": {
  "kernelspec": {
   "display_name": "Python 3",
   "language": "python",
   "name": "python3"
  },
  "language_info": {
   "codemirror_mode": {
    "name": "ipython",
    "version": 3
   },
   "file_extension": ".py",
   "mimetype": "text/x-python",
   "name": "python",
   "nbconvert_exporter": "python",
   "pygments_lexer": "ipython3",
   "version": "3.8.8"
  }
 },
 "nbformat": 4,
 "nbformat_minor": 5
}
