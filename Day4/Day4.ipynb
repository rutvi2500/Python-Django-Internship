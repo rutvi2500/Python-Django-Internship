{
 "cells": [
  {
   "cell_type": "markdown",
   "id": "d2284df0",
   "metadata": {},
   "source": [
    "## 28/05/21\n",
    "\n",
    "### functions"
   ]
  },
  {
   "cell_type": "code",
   "execution_count": 1,
   "id": "38d37a8b",
   "metadata": {},
   "outputs": [
    {
     "name": "stdout",
     "output_type": "stream",
     "text": [
      "hello world...\n",
      "hello world...\n"
     ]
    }
   ],
   "source": [
    "#how to define function\n",
    "\n",
    "def myfunction():\n",
    "    print(\"hello world...\")\n",
    "    \n",
    "myfunction()\n",
    "myfunction()"
   ]
  },
  {
   "cell_type": "code",
   "execution_count": 2,
   "id": "84ffe73f",
   "metadata": {},
   "outputs": [
    {
     "name": "stdout",
     "output_type": "stream",
     "text": [
      "hello world...\n",
      "name is Rutvi\n"
     ]
    }
   ],
   "source": [
    "def myfunction(name):\n",
    "    print(\"hello world...\")\n",
    "    print(\"name is\", name)\n",
    "    \n",
    "myfunction(\"Rutvi\")"
   ]
  },
  {
   "cell_type": "code",
   "execution_count": 4,
   "id": "826fdf38",
   "metadata": {},
   "outputs": [
    {
     "name": "stdout",
     "output_type": "stream",
     "text": [
      "hello world...\n",
      "value is Rutvi\n"
     ]
    }
   ],
   "source": [
    "def myfunction(name):\n",
    "    print(\"hello world...\")\n",
    "    return name\n",
    "    \n",
    "name=myfunction(\"Rutvi\")\n",
    "print(\"value is\",name)"
   ]
  },
  {
   "cell_type": "code",
   "execution_count": 5,
   "id": "76681bde",
   "metadata": {},
   "outputs": [
    {
     "name": "stdout",
     "output_type": "stream",
     "text": [
      "Name is Rutvi\n",
      "n1 is 10\n"
     ]
    }
   ],
   "source": [
    "def myfunction():\n",
    "    name=\"Rutvi\"\n",
    "    n1=10\n",
    "    return name,n1\n",
    "\n",
    "name,n1=myfunction()\n",
    "print(\"Name is\",name)\n",
    "print(\"n1 is\",n1)"
   ]
  },
  {
   "cell_type": "markdown",
   "id": "930d8073",
   "metadata": {},
   "source": [
    "### Python function argumanes"
   ]
  },
  {
   "cell_type": "code",
   "execution_count": 6,
   "id": "36f2111c",
   "metadata": {},
   "outputs": [
    {
     "name": "stdout",
     "output_type": "stream",
     "text": [
      "30\n"
     ]
    }
   ],
   "source": [
    "def calsum(n1,n2):\n",
    "    print(n1+n2)\n",
    "    \n",
    "calsum(10,20)"
   ]
  },
  {
   "cell_type": "code",
   "execution_count": 7,
   "id": "b1c5d31c",
   "metadata": {},
   "outputs": [
    {
     "name": "stdout",
     "output_type": "stream",
     "text": [
      "30\n",
      "300\n"
     ]
    }
   ],
   "source": [
    "# Default Argument\n",
    "def calsum(n1=100,n2=200):\n",
    "    print(n1+n2)\n",
    "    \n",
    "calsum(10,20)\n",
    "calsum()"
   ]
  },
  {
   "cell_type": "code",
   "execution_count": 8,
   "id": "d92b5358",
   "metadata": {},
   "outputs": [
    {
     "name": "stdout",
     "output_type": "stream",
     "text": [
      "sum is 30\n"
     ]
    }
   ],
   "source": [
    "# Keyword Argument\n",
    "def sum(a,b):\n",
    "    print (\"sum is\",a+b)\n",
    "    \n",
    "sum(b=10,a=20)"
   ]
  },
  {
   "cell_type": "code",
   "execution_count": 9,
   "id": "e0d0df0d",
   "metadata": {},
   "outputs": [
    {
     "name": "stdout",
     "output_type": "stream",
     "text": [
      "ans is 30\n",
      "ans is 60\n"
     ]
    }
   ],
   "source": [
    "# variable-length arguments\n",
    "# * -->non keyword argument\n",
    "# ** -->keyword argument\n",
    "\n",
    "def sum(*n1):\n",
    "    sum=0\n",
    "    \n",
    "    for i in n1:\n",
    "        sum=sum+i\n",
    "        \n",
    "    print(\"ans is\",sum)\n",
    "    \n",
    "sum(10,20)\n",
    "sum(10,20,30)"
   ]
  },
  {
   "cell_type": "code",
   "execution_count": 13,
   "id": "b2ed543b",
   "metadata": {},
   "outputs": [
    {
     "name": "stdout",
     "output_type": "stream",
     "text": [
      "name Rutvi\n",
      "nm Hello\n"
     ]
    }
   ],
   "source": [
    "def myfunction(**arg):\n",
    "    for i,j in arg.items():\n",
    "        print(i,j)\n",
    "    \n",
    "myfunction(name='Rutvi',nm='Hello')"
   ]
  },
  {
   "cell_type": "code",
   "execution_count": 14,
   "id": "b3244f5c",
   "metadata": {},
   "outputs": [
    {
     "name": "stdout",
     "output_type": "stream",
     "text": [
      "Rutvi\n",
      "Hello\n"
     ]
    }
   ],
   "source": [
    "def myfunction(**arg):\n",
    "    for i,j in arg.items():\n",
    "        print(j)\n",
    "    \n",
    "myfunction(name='Rutvi',nm='Hello')"
   ]
  },
  {
   "cell_type": "markdown",
   "id": "c83ebadd",
   "metadata": {},
   "source": [
    "### Scope of the variable"
   ]
  },
  {
   "cell_type": "code",
   "execution_count": 1,
   "id": "9045a316",
   "metadata": {},
   "outputs": [
    {
     "name": "stdout",
     "output_type": "stream",
     "text": [
      "value inside function:  10\n",
      "value inside function:  20\n"
     ]
    }
   ],
   "source": [
    "def my_func():\n",
    "    x=10      # local variable\n",
    "    print(\"value inside function: \",x)\n",
    "    \n",
    "x=20\n",
    "my_func()\n",
    "print(\"value inside function: \",x)"
   ]
  },
  {
   "cell_type": "markdown",
   "id": "7fd96668",
   "metadata": {},
   "source": [
    "### Indention error"
   ]
  },
  {
   "cell_type": "code",
   "execution_count": 2,
   "id": "5bfff594",
   "metadata": {},
   "outputs": [
    {
     "ename": "IndentationError",
     "evalue": "expected an indented block (<ipython-input-2-ea336a563c9a>, line 2)",
     "output_type": "error",
     "traceback": [
      "\u001b[1;36m  File \u001b[1;32m\"<ipython-input-2-ea336a563c9a>\"\u001b[1;36m, line \u001b[1;32m2\u001b[0m\n\u001b[1;33m    print(\"hello world\")\u001b[0m\n\u001b[1;37m    ^\u001b[0m\n\u001b[1;31mIndentationError\u001b[0m\u001b[1;31m:\u001b[0m expected an indented block\n"
     ]
    }
   ],
   "source": [
    "def my_function():\n",
    "print(\"hello world\")\n",
    "\n",
    "my_function()"
   ]
  },
  {
   "cell_type": "markdown",
   "id": "b070bf2e",
   "metadata": {},
   "source": [
    "### Operators in Python"
   ]
  },
  {
   "cell_type": "code",
   "execution_count": 3,
   "id": "ef835beb",
   "metadata": {},
   "outputs": [
    {
     "name": "stdout",
     "output_type": "stream",
     "text": [
      "x+y=  16\n",
      "x-y=  4\n",
      "x*y=  60\n",
      "x/y=  1.6666666666666667\n",
      "x//y=  1\n",
      "x**y=  1000000\n"
     ]
    }
   ],
   "source": [
    "# Arithmetic Operators \n",
    "x=10\n",
    "y=6\n",
    "\n",
    "print(\"x+y= \",x+y)\n",
    "print(\"x-y= \",x-y)\n",
    "print(\"x*y= \",x*y)\n",
    "print(\"x/y= \",x/y)\n",
    "print(\"x//y= \",x//y)\n",
    "print(\"x**y= \",x**y)\n"
   ]
  },
  {
   "cell_type": "code",
   "execution_count": 5,
   "id": "44a9fe0c",
   "metadata": {},
   "outputs": [
    {
     "name": "stdout",
     "output_type": "stream",
     "text": [
      "x>y =  True\n",
      "x<y =  False\n",
      "x==y =  False\n",
      "x!=y =  True\n",
      "x>=y =  True\n",
      "x<=y =  False\n"
     ]
    }
   ],
   "source": [
    "# Comparision Operators\n",
    "x=10\n",
    "y=6\n",
    "\n",
    "print(\"x>y = \",x>y)\n",
    "print(\"x<y = \",x<y)\n",
    "print(\"x==y = \",x==y)\n",
    "print(\"x!=y = \",x!=y)\n",
    "print(\"x>=y = \",x>=y)\n",
    "print(\"x<=y = \",x<=y)"
   ]
  },
  {
   "cell_type": "code",
   "execution_count": 6,
   "id": "cec2c7e8",
   "metadata": {},
   "outputs": [
    {
     "name": "stdout",
     "output_type": "stream",
     "text": [
      "n1 is the largest number\n"
     ]
    }
   ],
   "source": [
    "# Logical Operators\n",
    "\n",
    "# Example of AND\n",
    "n1=10\n",
    "n2=20\n",
    "n3=30\n",
    "\n",
    "if n1>n2 and n1>n3:\n",
    "    print(\"n1 is the largest number\")\n",
    "    \n",
    "if n2>n1 and n2>n3:\n",
    "    print(\"n1 is the largest number\")\n",
    "\n",
    "if n3>n1 and n3>n2:\n",
    "    print(\"n1 is the largest number\")"
   ]
  },
  {
   "cell_type": "code",
   "execution_count": 8,
   "id": "2b192030",
   "metadata": {},
   "outputs": [
    {
     "name": "stdout",
     "output_type": "stream",
     "text": [
      "enter character: h\n",
      "h is consonant\n"
     ]
    }
   ],
   "source": [
    "# Example of OR\n",
    "ch=input(\"enter character: \")\n",
    "if(ch=='A' or ch=='a' or ch=='E' or ch=='e' or ch=='I' or ch=='i' or ch=='O' or ch=='o' or ch=='U' or ch=='u'):\n",
    "    print(ch, \"is vowel\")\n",
    "else: \n",
    "    print(ch, \"is consonant\")"
   ]
  },
  {
   "cell_type": "code",
   "execution_count": 14,
   "id": "a97b2ad9",
   "metadata": {},
   "outputs": [
    {
     "name": "stdout",
     "output_type": "stream",
     "text": [
      "True\n",
      "False\n",
      "True\n"
     ]
    }
   ],
   "source": [
    "# Membership Operator\n",
    "x=10\n",
    "y=6\n",
    "list1=[10,20,30,40,50]\n",
    "print (x in list1)\n",
    "print (y in list1)\n",
    "print(y not in list1)"
   ]
  },
  {
   "cell_type": "code",
   "execution_count": 15,
   "id": "cdc8ae56",
   "metadata": {},
   "outputs": [
    {
     "name": "stdout",
     "output_type": "stream",
     "text": [
      "True\n",
      "False\n"
     ]
    }
   ],
   "source": [
    "# Identity Operator\n",
    "x=20\n",
    "y=20\n",
    "\n",
    "print(x is y)\n",
    "print(x is not y)"
   ]
  },
  {
   "cell_type": "code",
   "execution_count": null,
   "id": "60882d32",
   "metadata": {},
   "outputs": [],
   "source": []
  },
  {
   "cell_type": "code",
   "execution_count": null,
   "id": "d44a5c5b",
   "metadata": {},
   "outputs": [],
   "source": []
  },
  {
   "cell_type": "code",
   "execution_count": null,
   "id": "f6fb3821",
   "metadata": {},
   "outputs": [],
   "source": []
  },
  {
   "cell_type": "code",
   "execution_count": null,
   "id": "a9a8ca75",
   "metadata": {},
   "outputs": [],
   "source": []
  },
  {
   "cell_type": "code",
   "execution_count": null,
   "id": "78eb3fea",
   "metadata": {},
   "outputs": [],
   "source": []
  },
  {
   "cell_type": "code",
   "execution_count": null,
   "id": "3e66711c",
   "metadata": {},
   "outputs": [],
   "source": []
  },
  {
   "cell_type": "code",
   "execution_count": null,
   "id": "6bfe4304",
   "metadata": {},
   "outputs": [],
   "source": []
  }
 ],
 "metadata": {
  "kernelspec": {
   "display_name": "Python 3",
   "language": "python",
   "name": "python3"
  },
  "language_info": {
   "codemirror_mode": {
    "name": "ipython",
    "version": 3
   },
   "file_extension": ".py",
   "mimetype": "text/x-python",
   "name": "python",
   "nbconvert_exporter": "python",
   "pygments_lexer": "ipython3",
   "version": "3.8.8"
  }
 },
 "nbformat": 4,
 "nbformat_minor": 5
}
