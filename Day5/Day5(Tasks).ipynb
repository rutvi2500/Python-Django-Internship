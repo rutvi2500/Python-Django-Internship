{
 "cells": [
  {
   "cell_type": "markdown",
   "id": "88e4df16",
   "metadata": {},
   "source": [
    "### 1.  Create a class cal1 that will calculate sum of three numbers. Create setdata() method which has three parameters that contain numbers. Create display() method that will calculate sum and display sum. "
   ]
  },
  {
   "cell_type": "code",
   "execution_count": 1,
   "id": "47fba8d9",
   "metadata": {},
   "outputs": [
    {
     "name": "stdout",
     "output_type": "stream",
     "text": [
      "sum of three number is => 60\n",
      "sum of three number is => 600\n"
     ]
    }
   ],
   "source": [
    "class cal1:\n",
    "    num1=0\n",
    "    num2=0\n",
    "    num3=0\n",
    "    def setdata(self,num1,num2,num3):\n",
    "        self.num1=num1\n",
    "        self.num2=num2\n",
    "        self.num3=num3\n",
    "    def display(self):\n",
    "        sum=self.num1+self.num2+self.num3\n",
    "        print(\"sum of three number is =>\",sum)\n",
    "        \n",
    "sum=cal1()\n",
    "sum.setdata(10, 20, 30)\n",
    "sum.display()\n",
    "\n",
    "sum1=cal1()\n",
    "sum1.setdata(100, 200, 300)\n",
    "sum1.display()\n"
   ]
  },
  {
   "cell_type": "markdown",
   "id": "cf68d897",
   "metadata": {},
   "source": [
    "### 2.  Create a class cal2 that will calculate area of a circle. Create setdata() method that should take radius from the user. Create area() method that will calculate area . Create display() method that will display area . "
   ]
  },
  {
   "cell_type": "code",
   "execution_count": 2,
   "id": "663f3008",
   "metadata": {},
   "outputs": [
    {
     "name": "stdout",
     "output_type": "stream",
     "text": [
      "Area is => 628.0\n",
      "Area is => 62800.0\n"
     ]
    }
   ],
   "source": [
    "class cal1:\n",
    "    radius=0\n",
    "    def setdata(self,radius):\n",
    "        self.radius=radius\n",
    "    def display(self):\n",
    "        Area=2*3.14*self.radius*self.radius\n",
    "        print(\"Area is =>\",Area)\n",
    "        \n",
    "area=cal1()\n",
    "area.setdata(10)\n",
    "area.display()\n",
    "\n",
    "area1=cal1()\n",
    "area1.setdata(100)\n",
    "area1.display()\n"
   ]
  },
  {
   "cell_type": "markdown",
   "id": "0334d0f6",
   "metadata": {},
   "source": [
    "### 3.  Create a class cal3 that will calculate simple interest. Create constructor method which has three parameters .Create calInterest() method that will calculate Interest . Create display() method that will display Interest. "
   ]
  },
  {
   "cell_type": "code",
   "execution_count": 3,
   "id": "35f6166d",
   "metadata": {},
   "outputs": [
    {
     "name": "stdout",
     "output_type": "stream",
     "text": [
      "Simple Interest=> 510000\n",
      "Simple Interest=> 51000\n"
     ]
    }
   ],
   "source": [
    "class cal3:\n",
    "    p=0\n",
    "    A=0\n",
    "    T=0\n",
    "    I=0\n",
    "    def __init__(self,p,a,t):\n",
    "        self.p=p\n",
    "        self.A=a\n",
    "        self.T=t\n",
    "    def callInterest(self):\n",
    "       self.I=self.p*(1+self.A*self.T)\n",
    "    def display(self):\n",
    "        print(\"Simple Interest=>\",self.I)\n",
    "\n",
    "\n",
    "si=cal3(10000,5,10)\n",
    "si.callInterest()\n",
    "si.display()\n",
    "\n",
    "si1=cal3(1000,5,10)\n",
    "si1.callInterest()\n",
    "si1.display()\n"
   ]
  },
  {
   "cell_type": "markdown",
   "id": "80847fb1",
   "metadata": {},
   "source": [
    "### 4.  Create a class cal4 that will calculate square of a number. Create setdata() method which has one parameters that contain number. Create display() method that will calculate sum.(Function should return value) "
   ]
  },
  {
   "cell_type": "code",
   "execution_count": 4,
   "id": "f9cee98f",
   "metadata": {},
   "outputs": [
    {
     "name": "stdout",
     "output_type": "stream",
     "text": [
      "Square=> 100\n",
      "Square=> 324\n"
     ]
    }
   ],
   "source": [
    "class cal4:\n",
    "    n=0\n",
    "    def setdata(self,n):\n",
    "        self.n=n\n",
    "    def display(self):\n",
    "        return self.n*self.n\n",
    "    \n",
    "    \n",
    "    \n",
    "s=cal4()\n",
    "s.setdata(10)\n",
    "a=s.display()\n",
    "print(\"Square=>\",a)\n",
    "\n",
    "s1=cal4()\n",
    "s1.setdata(18)\n",
    "b=s1.display()\n",
    "print(\"Square=>\",b)\n"
   ]
  },
  {
   "cell_type": "markdown",
   "id": "34adc6a7",
   "metadata": {},
   "source": [
    "### 5.  Consider an employee class, which contains fields such as name and designation. And a subclass, which contains a field salary. Write a program for inheriting this relation. "
   ]
  },
  {
   "cell_type": "code",
   "execution_count": 6,
   "id": "9d3d3f3a",
   "metadata": {},
   "outputs": [
    {
     "name": "stdout",
     "output_type": "stream",
     "text": [
      "Krutarth\n",
      "python developer\n",
      "10000\n"
     ]
    }
   ],
   "source": [
    "class employee:\n",
    "    name=\"\"\n",
    "    designation=\"\"\n",
    "    def __init__(self,name,designation):\n",
    "        self.name=name\n",
    "        self.designation=designation\n",
    "        \n",
    "class emp(employee):\n",
    "    salary=0\n",
    "    def __init__(self,name,designation,salary):\n",
    "        self.salary=salary\n",
    "        super().__init__(name,designation)\n",
    "        \n",
    "e=emp(\"Krutarth\",\"python developer\",10000)\n",
    "print(e.name)\n",
    "print(e.designation)\n",
    "print(e.salary)\n"
   ]
  },
  {
   "cell_type": "markdown",
   "id": "9ec4b61c",
   "metadata": {},
   "source": [
    "### 6. Create a class cal5 that will calculate area of a rectangle. Create constructor method which has two parameters. Create calArea() method that will calculate area of a rectangle. Create display() method that will display area of a rectangle."
   ]
  },
  {
   "cell_type": "code",
   "execution_count": 11,
   "id": "21000d00",
   "metadata": {},
   "outputs": [
    {
     "name": "stdout",
     "output_type": "stream",
     "text": [
      "Enter length: 10\n",
      "Enter height: 20\n",
      "Area is  200\n"
     ]
    }
   ],
   "source": [
    "class cal5:\n",
    "    def __init__(self,x,y):\n",
    "        self.x=x\n",
    "        self.y=y\n",
    "        \n",
    "        \n",
    "    def calArea(self):\n",
    "        return self.x*self.y\n",
    "    \n",
    "    def display(self):\n",
    "        print(\"Area is \", a)\n",
    "        \n",
    "x=int(input(\"Enter length: \"))\n",
    "y=int(input(\"Enter height: \"))\n",
    "    \n",
    "c=cal5(x,y)\n",
    "a=c.calArea()\n",
    "c.display()"
   ]
  },
  {
   "cell_type": "markdown",
   "id": "f7bf15d0",
   "metadata": {},
   "source": [
    "### 7.Create a class cal6 that will calculate area of a square. Create setdata() method that should take length from the user. Create area() method that will calculate area . Create display() method that will display area ."
   ]
  },
  {
   "cell_type": "code",
   "execution_count": 12,
   "id": "0b5e5576",
   "metadata": {},
   "outputs": [
    {
     "name": "stdout",
     "output_type": "stream",
     "text": [
      "Enter x: 10\n",
      "Area is  100\n"
     ]
    }
   ],
   "source": [
    "class cal5:\n",
    "    def setdata(self):\n",
    "        self.x=int(input(\"Enter x: \"))\n",
    "        #self.y=int(input(\"Enter y: \"))\n",
    "        \n",
    "        \n",
    "    def calArea(self):\n",
    "        return self.x*self.x\n",
    "    \n",
    "    def display(self):\n",
    "        print(\"Area is \", a)\n",
    "        \n",
    "    \n",
    "c=cal5()\n",
    "c.setdata()\n",
    "a=c.calArea()\n",
    "c.display()"
   ]
  },
  {
   "cell_type": "markdown",
   "id": "cee7bb40",
   "metadata": {},
   "source": [
    "### 8. Write a program with use of inheritance: Define a class publisher that stores the name of the title. Derive two classes book and tape, which inherit publisher. Book class contains member data called page no and tape class contain time for playing. Define functions in the appropriate classes to get and print the details. "
   ]
  },
  {
   "cell_type": "code",
   "execution_count": 6,
   "id": "3d732d52",
   "metadata": {},
   "outputs": [
    {
     "name": "stdout",
     "output_type": "stream",
     "text": [
      "The Book\n",
      "Total playing time of the tape is 2 hrs.\n",
      "Total page of the book is 300.\n"
     ]
    }
   ],
   "source": [
    "class publisher:\n",
    "    def title(self):\n",
    "        print(\"The Book\")\n",
    "        \n",
    "    \n",
    "class book(publisher):\n",
    "    def book(self):\n",
    "        print(\"Total page of the book is 300.\")\n",
    "        \n",
    "class tape(publisher):\n",
    "    def tape(self):\n",
    "        print(\"Total playing time of the tape is 2 hrs.\")\n",
    "        \n",
    "p=tape()\n",
    "p.title()\n",
    "p.tape()\n",
    "\n",
    "p1=book()\n",
    "p1.book()"
   ]
  },
  {
   "cell_type": "markdown",
   "id": "55c77036",
   "metadata": {},
   "source": [
    "### 9. Create a class called scheme with scheme_id, scheme_name,outgoing_rate, and message_charge. Derive customer class form scheme and include cust_id, name and mobile_no data.Define necessary functions to read and display data."
   ]
  },
  {
   "cell_type": "code",
   "execution_count": 7,
   "id": "2c8ab6b0",
   "metadata": {},
   "outputs": [
    {
     "name": "stdout",
     "output_type": "stream",
     "text": [
      "Sceme id=1\n",
      "outgoing rate=30rs/hr\n",
      "message charge=1rs/sms\n",
      "Customer id=1\n",
      "name=abc\n",
      "mobile no.=0123456789\n"
     ]
    }
   ],
   "source": [
    "class scheme:\n",
    "    def scheme(self):\n",
    "        print(\"Sceme id=1\")\n",
    "        print(\"outgoing rate=30rs/hr\")\n",
    "        print(\"message charge=1rs/sms\")\n",
    "        \n",
    "    \n",
    "class customer(scheme):\n",
    "    def customer(self):\n",
    "        print(\"Customer id=1\")\n",
    "        print(\"name=abc\")\n",
    "        print(\"mobile no.=0123456789\")\n",
    "        \n",
    "p=customer()\n",
    "p.scheme()\n",
    "p.customer()"
   ]
  },
  {
   "cell_type": "markdown",
   "id": "646c965c",
   "metadata": {},
   "source": [
    "### 10. Create a arith class. The class should have a parameterized constructor and methods to add, subtract and multiply two numbers and to return the answers."
   ]
  },
  {
   "cell_type": "code",
   "execution_count": 23,
   "id": "f6bff6ad",
   "metadata": {},
   "outputs": [
    {
     "name": "stdout",
     "output_type": "stream",
     "text": [
      "Addition is  30\n",
      "Multiplication is  200\n",
      "Subtraction is  -10\n"
     ]
    }
   ],
   "source": [
    "class Arith:\n",
    "    \n",
    "    def __init__(self,x,y):\n",
    "        self.x=x\n",
    "        self.y=y\n",
    "        \n",
    "    def add(self):\n",
    "        print(\"Addition is \",self.x+self.y)\n",
    "        \n",
    "    def subtract(self):\n",
    "        print(\"Subtraction is \",self.x-self.y)\n",
    "        \n",
    "    def multiply(self):\n",
    "        print(\"Multiplication is \",self.x*self.y)\n",
    "        \n",
    "a=Arith(10,20)\n",
    "a.add()\n",
    "a.multiply()\n",
    "a.subtract()\n"
   ]
  },
  {
   "cell_type": "code",
   "execution_count": null,
   "id": "c653e5a3",
   "metadata": {},
   "outputs": [],
   "source": []
  },
  {
   "cell_type": "code",
   "execution_count": null,
   "id": "eff0fbcc",
   "metadata": {},
   "outputs": [],
   "source": []
  }
 ],
 "metadata": {
  "kernelspec": {
   "display_name": "Python 3",
   "language": "python",
   "name": "python3"
  },
  "language_info": {
   "codemirror_mode": {
    "name": "ipython",
    "version": 3
   },
   "file_extension": ".py",
   "mimetype": "text/x-python",
   "name": "python",
   "nbconvert_exporter": "python",
   "pygments_lexer": "ipython3",
   "version": "3.8.8"
  }
 },
 "nbformat": 4,
 "nbformat_minor": 5
}
