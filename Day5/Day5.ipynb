{
 "cells": [
  {
   "cell_type": "markdown",
   "id": "c5849211",
   "metadata": {},
   "source": [
    "## 31/05/2021\n",
    "\n",
    "### Class, Objects and Constructor"
   ]
  },
  {
   "cell_type": "code",
   "execution_count": 8,
   "id": "289763f1",
   "metadata": {},
   "outputs": [
    {
     "name": "stdout",
     "output_type": "stream",
     "text": [
      "value is xyz\n",
      "This is myfuction of class...\n",
      "value is Rutvi\n"
     ]
    }
   ],
   "source": [
    "class demo:\n",
    "    def myfunction(self):\n",
    "        print(\"This is myfuction of class...\")\n",
    "        \n",
    "    def show(self,name):\n",
    "        print(\"value is\",name)\n",
    "        \n",
    "    def __init__(self,name):                             \n",
    "        print(\"value is\",name)\n",
    "        \n",
    "d1=demo(\"xyz\")\n",
    "d1.myfunction()\n",
    "d1.show('Rutvi')"
   ]
  },
  {
   "cell_type": "markdown",
   "id": "d0127ca5",
   "metadata": {},
   "source": [
    "### Assign string value to class variable using method"
   ]
  },
  {
   "cell_type": "code",
   "execution_count": 9,
   "id": "b8734a92",
   "metadata": {},
   "outputs": [
    {
     "name": "stdout",
     "output_type": "stream",
     "text": [
      "this is normal method...\n",
      "Name is  Rutvi\n"
     ]
    }
   ],
   "source": [
    "class Demo:\n",
    "    name=\"\"\n",
    "    \n",
    "    def funct1(self):\n",
    "        print(\"this is normal method...\")\n",
    "        \n",
    "    def funct2(self,name):\n",
    "            self.name=name\n",
    "        \n",
    "    def show(self):\n",
    "            print(\"Name is \",self.name)\n",
    "            \n",
    "d1=Demo()\n",
    "d1.funct1()\n",
    "d1.funct2(\"Rutvi\")\n",
    "d1.show()"
   ]
  },
  {
   "cell_type": "markdown",
   "id": "37663c4f",
   "metadata": {},
   "source": [
    "### Inheritance"
   ]
  },
  {
   "cell_type": "code",
   "execution_count": 17,
   "id": "2820d432",
   "metadata": {},
   "outputs": [
    {
     "name": "stdout",
     "output_type": "stream",
     "text": [
      "This is parent class method...\n",
      "This is child class method...\n"
     ]
    }
   ],
   "source": [
    "# Single level inheritance\n",
    "\n",
    "class Demo():\n",
    "    def func1(self):\n",
    "        print(\"This is parent class method...\")\n",
    "        \n",
    "class Demo1(Demo):\n",
    "        def func2(self):\n",
    "            print(\"This is child class method...\")\n",
    "        \n",
    "d1=Demo1()\n",
    "d1.func1()\n",
    "d1.func2()"
   ]
  },
  {
   "cell_type": "code",
   "execution_count": 11,
   "id": "50069f6f",
   "metadata": {},
   "outputs": [
    {
     "name": "stdout",
     "output_type": "stream",
     "text": [
      "Calling subchild constructor\n",
      "Calling subchild method\n",
      "Calling child method\n",
      "Calling parent method\n"
     ]
    }
   ],
   "source": [
    "# Multi level inheritance\n",
    "\n",
    "class Parent:\n",
    "    def __init__(self):\n",
    "        print(\"Calling parent constructor\")\n",
    "        \n",
    "    def parentmethod(self):\n",
    "        print(\"Calling parent method\")\n",
    "        \n",
    "class Child(Parent):\n",
    "    def __init__(self):\n",
    "        print(\"Calling child constructor\")\n",
    "        \n",
    "    def childmethod(self):\n",
    "        print(\"Calling child method\")\n",
    "        \n",
    "class subchild(Child):\n",
    "    def __init__(self):\n",
    "        print(\"Calling subchild constructor\")\n",
    "        \n",
    "    def subchildmethod(self):\n",
    "        print(\"Calling subchild method\")\n",
    "        \n",
    "sc=subchild()\n",
    "sc.subchildmethod()\n",
    "sc.childmethod()\n",
    "sc.parentmethod()"
   ]
  },
  {
   "cell_type": "code",
   "execution_count": 13,
   "id": "5a3744f3",
   "metadata": {},
   "outputs": [
    {
     "name": "stdout",
     "output_type": "stream",
     "text": [
      "Calling parent method\n",
      "Calling parent method\n",
      "child method\n"
     ]
    }
   ],
   "source": [
    "# Multiple Inheritance\n",
    "\n",
    "\n",
    "class Parent1:        \n",
    "    def parentmethod1(self):\n",
    "        print(\"Calling parent method\")\n",
    "\n",
    "class Parent2:      \n",
    "    def parentmethod2(self):\n",
    "        print(\"Calling parent method\")\n",
    "        \n",
    "class childclass(Parent1,Parent2):\n",
    "    def childmethod(self):\n",
    "        print(\"child method\")\n",
    "        \n",
    "c=childclass()\n",
    "c.parentmethod1()\n",
    "c.parentmethod2()\n",
    "c.childmethod()"
   ]
  },
  {
   "cell_type": "code",
   "execution_count": 16,
   "id": "06a57c81",
   "metadata": {},
   "outputs": [
    {
     "name": "stdout",
     "output_type": "stream",
     "text": [
      "Calling subchild constructor\n",
      "Calling subchild method\n",
      "Calling parent method\n"
     ]
    }
   ],
   "source": [
    "# Hierarchical Inheritance\n",
    "\n",
    "class Parent:\n",
    "    def __init__(self):\n",
    "        print(\"Calling parent constructor\")\n",
    "        \n",
    "    def parentmethod(self):\n",
    "        print(\"Calling parent method\")\n",
    "        \n",
    "class Child(Parent):\n",
    "    def __init__(self):\n",
    "        print(\"Calling child constructor\")\n",
    "        \n",
    "    def childmethod(self):\n",
    "        print(\"Calling child method\")\n",
    "        \n",
    "class Child2(Parent):\n",
    "    def __init__(self):\n",
    "        print(\"Calling subchild constructor\")\n",
    "        \n",
    "    def childmethod2(self):\n",
    "        print(\"Calling subchild method\")\n",
    "        \n",
    "sc=Child2()\n",
    "sc.childmethod2()\n",
    "sc.parentmethod()"
   ]
  },
  {
   "cell_type": "code",
   "execution_count": 19,
   "id": "cfc9a87a",
   "metadata": {},
   "outputs": [
    {
     "name": "stdout",
     "output_type": "stream",
     "text": [
      "Calling parent method\n",
      "Calling parent method2\n",
      "child method\n",
      "child method2\n",
      "Calling parent method\n"
     ]
    }
   ],
   "source": [
    "# Hybrid Inheritance\n",
    "\n",
    "\n",
    "class Parent1:        \n",
    "    def parentmethod1(self):\n",
    "        print(\"Calling parent method\")\n",
    "\n",
    "class Parent2:      \n",
    "    def parentmethod2(self):\n",
    "        print(\"Calling parent method2\")\n",
    "        \n",
    "class childclass(Parent1,Parent2):\n",
    "    def childmethod(self):\n",
    "        print(\"child method\")\n",
    "        \n",
    "class childclass2(Parent1):\n",
    "    def childmethod2(self):\n",
    "        print(\"child method2\")\n",
    "        \n",
    "c=childclass()\n",
    "c.parentmethod1()\n",
    "c.parentmethod2()\n",
    "c.childmethod()\n",
    "\n",
    "c2=childclass2()\n",
    "c2.childmethod2()\n",
    "c2.parentmethod1()"
   ]
  },
  {
   "cell_type": "markdown",
   "id": "a10a0ff1",
   "metadata": {},
   "source": [
    "### Polymorphism"
   ]
  },
  {
   "cell_type": "code",
   "execution_count": 20,
   "id": "3b6a92cf",
   "metadata": {},
   "outputs": [
    {
     "name": "stdout",
     "output_type": "stream",
     "text": [
      "Child method called\n",
      "Parent method called\n"
     ]
    }
   ],
   "source": [
    "# Overriding Method\n",
    "\n",
    "class ParentClass():\n",
    "    def func1(self):\n",
    "        print(\"Parent method called\")\n",
    "\n",
    "class ChildClass():\n",
    "    def func1(self):\n",
    "        print(\"Child method called\")\n",
    "        \n",
    "c=ChildClass()\n",
    "c.func1()\n",
    "\n",
    "p=ParentClass()\n",
    "p.func1()"
   ]
  },
  {
   "cell_type": "code",
   "execution_count": 23,
   "id": "05094d06",
   "metadata": {},
   "outputs": [
    {
     "name": "stdout",
     "output_type": "stream",
     "text": [
      "ans is:  60\n"
     ]
    }
   ],
   "source": [
    "# Overloading Method\n",
    "\n",
    "class Myclass():\n",
    "    def sum(self,n1,n2):\n",
    "        ans=n1+n2\n",
    "        print(\"ans is: \",ans)\n",
    "        \n",
    "    def sum(self,n1,n2,n3):\n",
    "        ans=n1+n2+n3\n",
    "        print(\"ans is: \",ans)\n",
    "        \n",
    "p=Myclass()\n",
    "p.sum(10,20,30)"
   ]
  }
 ],
 "metadata": {
  "kernelspec": {
   "display_name": "Python 3",
   "language": "python",
   "name": "python3"
  },
  "language_info": {
   "codemirror_mode": {
    "name": "ipython",
    "version": 3
   },
   "file_extension": ".py",
   "mimetype": "text/x-python",
   "name": "python",
   "nbconvert_exporter": "python",
   "pygments_lexer": "ipython3",
   "version": "3.8.8"
  }
 },
 "nbformat": 4,
 "nbformat_minor": 5
}
